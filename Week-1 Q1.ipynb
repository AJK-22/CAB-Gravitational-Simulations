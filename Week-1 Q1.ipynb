{
 "cells": [
  {
   "cell_type": "code",
   "execution_count": 22,
   "id": "89581a61",
   "metadata": {
    "scrolled": true
   },
   "outputs": [
    {
     "data": {
      "text/plain": [
       "'\\ndef RungeKutta4(f, y, t):\\n    K1 = f(t)*dt\\n    K2 = f(t + dt/2)*dt\\n    K3 = f(t + dt/2)*dt #Here, f is a function of t alone hence K2 and K3 are identical\\n    K4 = f(t + dt)*dt\\n    y += (K1 + 2*K2 + 2*K3 + K4)/6\\n    if y < 0:\\n        y = 0\\n    return y\\n\\ny_array_RK4 = np.copy(t_array)\\n\\ny_array_RK4[0] = h\\n\\nfor i in range(t_array.size - 1):\\n    y_array_RK4[i + 1] = RungeKutta4(dydt, y_array_RK4[i], t_array[i])\\n\\nplt.plot(t_array, y_array_RK4)\\n'"
      ]
     },
     "execution_count": 22,
     "metadata": {},
     "output_type": "execute_result"
    },
    {
     "data": {
      "image/png": "[encoded data removed]",
      "text/plain": [
       "<Figure size 432x288 with 1 Axes>"
      ]
     },
     "metadata": {
      "needs_background": "light"
     },
     "output_type": "display_data"
    }
   ],
   "source": [
    "import numpy as np\n",
    "import matplotlib.pyplot as plt\n",
    "\n",
    "#time interval\n",
    "dur = 5\n",
    "dt = 0.001\n",
    "\n",
    "#initial vertical speed\n",
    "vy0 = 0\n",
    "\n",
    "#initial height\n",
    "h = 100\n",
    "\n",
    "dydt = lambda t : vy0 - 9.81*t\n",
    "\n",
    "def Euler(f, y, t):\n",
    "    y += f(t)*dt\n",
    "    if y < 0:\n",
    "        return 0\n",
    "    return y\n",
    "\n",
    "t_array = np.arange(0,dur,dt)\n",
    "\n",
    "y_array_Euler = np.copy(t_array)\n",
    "\n",
    "y_array_Euler[0] = h\n",
    "\n",
    "for i in range(t_array.size - 1):\n",
    "    y_array_Euler[i + 1] = Euler(dydt, y_array_Euler[i], t_array[i])\n",
    "    \n",
    "plt.plot(t_array, y_array_Euler)\n",
    "\n",
    "\"\"\"\n",
    "def RungeKutta4(f, y, t):\n",
    "    K1 = f(t)*dt\n",
    "    K2 = f(t + dt/2)*dt\n",
    "    K3 = f(t + dt/2)*dt #Here, f is a function of t alone hence K2 and K3 are identical\n",
    "    K4 = f(t + dt)*dt\n",
    "    y += (K1 + 2*K2 + 2*K3 + K4)/6\n",
    "    if y < 0:\n",
    "        y = 0\n",
    "    return y\n",
    "\n",
    "y_array_RK4 = np.copy(t_array)\n",
    "\n",
    "y_array_RK4[0] = h\n",
    "\n",
    "for i in range(t_array.size - 1):\n",
    "    y_array_RK4[i + 1] = RungeKutta4(dydt, y_array_RK4[i], t_array[i])\n",
    "\n",
    "plt.plot(t_array, y_array_RK4)\n",
    "\"\"\""
   ]
  },
  {
   "cell_type": "code",
   "execution_count": null,
   "id": "615bc22b",
   "metadata": {},
   "outputs": [],
   "source": []
  }
 ],
 "metadata": {
  "kernelspec": {
   "display_name": "Python 3 (ipykernel)",
   "language": "python",
   "name": "python3"
  },
  "language_info": {
   "codemirror_mode": {
    "name": "ipython",
    "version": 3
   },
   "file_extension": ".py",
   "mimetype": "text/x-python",
   "name": "python",
   "nbconvert_exporter": "python",
   "pygments_lexer": "ipython3",
   "version": "3.9.7"
  }
 },
 "nbformat": 4,
 "nbformat_minor": 5
}
