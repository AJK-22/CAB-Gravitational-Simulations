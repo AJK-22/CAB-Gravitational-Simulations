{
 "cells": [
  {
   "cell_type": "markdown",
   "id": "37393067",
   "metadata": {},
   "source": [
    "# **Week 1 Question 3**\n",
    "\n",
    "Treat the planetary motion problem as a differential equation problem with given initial conditions (Take earth and Sun). Initial conditions being the orbital radius and orbital velocity of earth (assume a circular orbit)."
   ]
  },
  {
   "cell_type": "code",
   "execution_count": 12,
   "id": "045dac7a",
   "metadata": {},
   "outputs": [
    {
     "data": {
      "text/plain": [
       "[<matplotlib.lines.Line2D at 0x155028dd940>]"
      ]
     },
     "execution_count": 12,
     "metadata": {},
     "output_type": "execute_result"
    },
    {
     "data": {
      "image/png": "[encoded data removed]",
      "text/plain": [
       "<Figure size 432x288 with 1 Axes>"
      ]
     },
     "metadata": {
      "needs_background": "light"
     },
     "output_type": "display_data"
    }
   ],
   "source": [
    "import numpy as np\n",
    "import matplotlib.pyplot as plt\n",
    "\n",
    "#time interval\n",
    "n_years = 1\n",
    "dur = 24*3600*365.25*n_years\n",
    "dt = 60\n",
    "\n",
    "#Constants\n",
    "G = 6.6743*10**-11\n",
    "M_Sun = 1.98847*10**30\n",
    "GM_Sun = G*M_Sun\n",
    "R_Earth = 149597870700\n",
    "\n",
    "#initial coordinates (the Sun is at the origin)\n",
    "y0 = 0\n",
    "x0 = R_Earth\n",
    "\n",
    "#initial velocity\n",
    "vy0 = 29780\n",
    "vx0 = 0\n",
    "\n",
    "#Function for conducting the Eulerian Simulation\n",
    "def Euler_Iterate(vector, i):\n",
    "    x = vector[i, 0]\n",
    "    y = vector[i, 1]\n",
    "    \n",
    "    vx = vector[i, 2]\n",
    "    vy = vector[i, 3]\n",
    "    \n",
    "    vector[i + 1, 0] = x + vx*dt\n",
    "    vector[i + 1, 1] = y + vy*dt\n",
    "    \n",
    "    vector[i + 1, 2] = vx - dt*np.cos(np.arctan2(y,x))*GM_Sun/(x*x + y*y)\n",
    "    vector[i + 1, 3] = vy - dt*np.sin(np.arctan2(y,x))*GM_Sun/(x*x + y*y)\n",
    "\n",
    "#Function for conducting the RK4 Simulation\n",
    "def RK4_Iterate(vector, i):\n",
    "    x = vector[i, 0]\n",
    "    y = vector[i, 1]\n",
    "    \n",
    "    vx = vector[i, 2]\n",
    "    vy = vector[i, 3]\n",
    "    \n",
    "    \n",
    "    xK2 = x + vx*dt/2\n",
    "    yK2 = y + vy*dt/2\n",
    "    \n",
    "    vxK2 = vx - dt/2*np.cos(np.arctan2(yK2,xK2))*GM_Sun/(xK2*xK2 + yK2*yK2)\n",
    "    vyK2 = vy - dt/2*np.sin(np.arctan2(yK2,xK2))*GM_Sun/(xK2*xK2 + yK2*yK2)\n",
    "    \n",
    "    \n",
    "    xK3 = x + vxK2*dt/2\n",
    "    yK3 = y + vyK2*dt/2\n",
    "    \n",
    "    vxK3 = vx - dt/2*np.cos(np.arctan2(yK3,xK3))*GM_Sun/(xK3*xK3 + yK3*yK3)\n",
    "    vyK3 = vy - dt/2*np.sin(np.arctan2(yK3,xK3))*GM_Sun/(xK3*xK3 + yK3*yK3)\n",
    "    \n",
    "    \n",
    "    xK4 = x + vxK3*dt\n",
    "    yK4 = y + vyK3*dt\n",
    "    \n",
    "    vxK4 = vx - dt*np.cos(np.arctan2(yK4,xK4))*GM_Sun/(xK4*xK4 + yK4*yK4)\n",
    "    vyK4 = vy - dt*np.sin(np.arctan2(yK4,xK4))*GM_Sun/(xK4*xK4 + yK4*yK4)\n",
    "    \n",
    "    \n",
    "    vector[i + 1, 0] = x + dt*(vx + 2*vxK2 + 2*vxK3 + vxK4)/6\n",
    "    vector[i + 1, 1] = y + dt*(vy + 2*vyK2 + 2*vyK3 + vyK4)/6\n",
    "    \n",
    "    vector[i + 1, 2] = vx - dt*np.cos(np.arctan2(y,x))*GM_Sun/(x*x + y*y)\n",
    "    vector[i + 1, 3] = vy - dt*np.sin(np.arctan2(y,x))*GM_Sun/(x*x + y*y)\n",
    "    \n",
    "\n",
    "t_array = np.arange(0,dur,dt)\n",
    "n = t_array.size\n",
    "\n",
    "vector = np.ones((n, 4))\n",
    "vector[0, :] = [x0, y0, vx0, vy0]\n",
    "\n",
    "for i in range(t_array.size - 1):\n",
    "    RK4_Iterate(vector, i)\n",
    "\n",
    "plt.title(\"Orbit of the Earth\")\n",
    "plt.xlabel(\"X Coordinate (in 10^11 m)\")\n",
    "plt.ylabel(\"Y Coordinate (in 10^11 m)\")    \n",
    "\n",
    "#the Sun\n",
    "plt.plot(0, 0, \"ro\")\n",
    "\n",
    "plt.plot(vector[:, 0], vector[:, 1])"
   ]
  },
  {
   "cell_type": "code",
   "execution_count": null,
   "id": "a1ede250",
   "metadata": {},
   "outputs": [],
   "source": []
  }
 ],
 "metadata": {
  "kernelspec": {
   "display_name": "Python 3 (ipykernel)",
   "language": "python",
   "name": "python3"
  },
  "language_info": {
   "codemirror_mode": {
    "name": "ipython",
    "version": 3
   },
   "file_extension": ".py",
   "mimetype": "text/x-python",
   "name": "python",
   "nbconvert_exporter": "python",
   "pygments_lexer": "ipython3",
   "version": "3.9.7"
  }
 },
 "nbformat": 4,
 "nbformat_minor": 5
}
